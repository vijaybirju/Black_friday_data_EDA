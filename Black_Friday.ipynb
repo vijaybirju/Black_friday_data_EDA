{
 "cells": [
  {
   "cell_type": "markdown",
   "id": "59967c12",
   "metadata": {},
   "source": [
    "## cleaning and preparing data for model training"
   ]
  },
  {
   "cell_type": "code",
   "execution_count": null,
   "id": "38209910",
   "metadata": {},
   "outputs": [],
   "source": [
    "import "
   ]
  }
 ],
 "metadata": {
  "kernelspec": {
   "display_name": "Python 3 (ipykernel)",
   "language": "python",
   "name": "python3"
  },
  "language_info": {
   "codemirror_mode": {
    "name": "ipython",
    "version": 3
   },
   "file_extension": ".py",
   "mimetype": "text/x-python",
   "name": "python",
   "nbconvert_exporter": "python",
   "pygments_lexer": "ipython3",
   "version": "3.9.13"
  }
 },
 "nbformat": 4,
 "nbformat_minor": 5
}
